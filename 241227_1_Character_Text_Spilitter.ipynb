{
  "nbformat": 4,
  "nbformat_minor": 0,
  "metadata": {
    "colab": {
      "provenance": [],
      "authorship_tag": "ABX9TyP9zvlZMbn2oJfEd0zbNSuj",
      "include_colab_link": true
    },
    "kernelspec": {
      "name": "python3",
      "display_name": "Python 3"
    },
    "language_info": {
      "name": "python"
    }
  },
  "cells": [
    {
      "cell_type": "markdown",
      "metadata": {
        "id": "view-in-github",
        "colab_type": "text"
      },
      "source": [
        "<a href=\"https://colab.research.google.com/github/hyewon7011/jju/blob/main/241227_1_Character_Text_Spilitter.ipynb\" target=\"_parent\"><img src=\"https://colab.research.google.com/assets/colab-badge.svg\" alt=\"Open In Colab\"/></a>"
      ]
    },
    {
      "cell_type": "code",
      "execution_count": null,
      "metadata": {
        "id": "vxPtTWnhod2L"
      },
      "outputs": [],
      "source": [
        "with open(\"/content/data/appendix-keywords.txt\") as f:\n",
        "  file = f.read()"
      ]
    },
    {
      "cell_type": "code",
      "source": [
        "print(file[:500])"
      ],
      "metadata": {
        "colab": {
          "base_uri": "https://localhost:8080/"
        },
        "id": "gN-NITjzrsUI",
        "outputId": "b680ffc7-cc06-4c96-e060-f28bdb4ca5fb"
      },
      "execution_count": null,
      "outputs": [
        {
          "output_type": "stream",
          "name": "stdout",
          "text": [
            "Semantic Search\n",
            "\n",
            "정의: 의미론적 검색은 사용자의 질의를 단순한 키워드 매칭을 넘어서 그 의미를 파악하여 관련된 결과를 반환하는 검색 방식입니다.\n",
            "예시: 사용자가 \"태양계 행성\"이라고 검색하면, \"목성\", \"화성\" 등과 같이 관련된 행성에 대한 정보를 반환합니다.\n",
            "연관키워드: 자연어 처리, 검색 알고리즘, 데이터 마이닝\n",
            "\n",
            "Embedding\n",
            "\n",
            "정의: 임베딩은 단어나 문장 같은 텍스트 데이터를 저차원의 연속적인 벡터로 변환하는 과정입니다. 이를 통해 컴퓨터가 텍스트를 이해하고 처리할 수 있게 합니다.\n",
            "예시: \"사과\"라는 단어를 [0.65, -0.23, 0.17]과 같은 벡터로 표현합니다.\n",
            "연관키워드: 자연어 처리, 벡터화, 딥러닝\n",
            "\n",
            "Token\n",
            "\n",
            "정의: 토큰은 텍스트를 더 작은 단위로 분할하는 것을 의미합니다. 이는 일반적으로 단어, 문장, 또는 구절일 수 있습니다.\n",
            "예시: 문장 \"나는 학교에 간다\"를 \"나는\", \"학교에\", \"간다\"로 분할합니다.\n",
            "연관키워드: 토큰화, 자연어\n"
          ]
        }
      ]
    },
    {
      "cell_type": "code",
      "source": [
        "from langchain_text_splitters import CharacterTextSplitter\n",
        "\n",
        "# CharacterTextSplitter를 사용하여 텍스트를 청크(chunk)로 분할하는 코드\n",
        "text_splitter = CharacterTextSplitter(\n",
        "    # 텍스트를 분할할 때 사용할 구분자를 지정합니다. 기본값은 \"\\n\\n\"입니다.\n",
        "    separator=\"\\n\\n\",\n",
        "    # 분할된 텍스트 청크의 최대 크기를 지정합니다. (문자 수)\n",
        "    chunk_size=210,\n",
        "    # 분할된 텍스트 청크 간의 중복되는 문자 수를 지정합니다.\n",
        "    chunk_overlap=0,\n",
        "    # 텍스트의 길이를 계산하는 함수를 지정합니다.\n",
        "    length_function=len,\n",
        ")"
      ],
      "metadata": {
        "id": "dH_TCnbVtGAk"
      },
      "execution_count": null,
      "outputs": []
    },
    {
      "cell_type": "code",
      "source": [
        "# 텍스트를 청크로 분할합니다\n",
        "texts = text_splitter.create_documents([file])\n",
        "print(len(texts[0].page_content)) # 분할된 문서의 개수를 출력합니다.\n",
        "print(texts[0]) # 분할된 문서 중 첫 번째 문서를 출력합니다."
      ],
      "metadata": {
        "colab": {
          "base_uri": "https://localhost:8080/"
        },
        "id": "tek5tLFnvH_p",
        "outputId": "64edb8ce-3b60-47cf-9c5e-dd5b6409d09e"
      },
      "execution_count": null,
      "outputs": [
        {
          "output_type": "stream",
          "name": "stdout",
          "text": [
            "197\n",
            "page_content='Semantic Search\n",
            "\n",
            "정의: 의미론적 검색은 사용자의 질의를 단순한 키워드 매칭을 넘어서 그 의미를 파악하여 관련된 결과를 반환하는 검색 방식입니다.\n",
            "예시: 사용자가 \"태양계 행성\"이라고 검색하면, \"목성\", \"화성\" 등과 같이 관련된 행성에 대한 정보를 반환합니다.\n",
            "연관키워드: 자연어 처리, 검색 알고리즘, 데이터 마이닝\n",
            "\n",
            "Embedding'\n"
          ]
        }
      ]
    },
    {
      "cell_type": "markdown",
      "source": [
        "# create_document메서드를 이용한 메타데이터 전달"
      ],
      "metadata": {
        "id": "nvsP_nV9xT0v"
      }
    },
    {
      "cell_type": "code",
      "source": [
        "metadatas = [\n",
        "    {\"document\" : 1},\n",
        "    {\"document\" : 2},\n",
        "] # 문서에 대한 메타데이터 리스트를 정의합니다.\n",
        "documents = text_splitter.create_documents(\n",
        "    [\n",
        "        file,\n",
        "        file,\n",
        "    ], # 분할할 텍스트 데이터를 리스트로 전달합니다.\n",
        "    metadatas=metadatas, # 각 문서에 해당하는 메타데이터를 전달합니다.\n",
        ")\n",
        "print(documents[50]) # 분할된 문서 중 첫 번째 문서를 출력합니다."
      ],
      "metadata": {
        "colab": {
          "base_uri": "https://localhost:8080/"
        },
        "id": "QArFV1DZwAeu",
        "outputId": "08661ffb-ece6-4718-a8ed-31eb5c926a74"
      },
      "execution_count": null,
      "outputs": [
        {
          "output_type": "stream",
          "name": "stdout",
          "text": [
            "page_content='TF-IDF (Term Frequency-Inverse Document Frequency)' metadata={'document': 2}\n"
          ]
        }
      ]
    },
    {
      "cell_type": "code",
      "source": [
        "len(documents)"
      ],
      "metadata": {
        "colab": {
          "base_uri": "https://localhost:8080/"
        },
        "id": "ntgIhQoZyVT4",
        "outputId": "12f4d8eb-85cb-470a-9bb3-b97373a4e130"
      },
      "execution_count": null,
      "outputs": [
        {
          "output_type": "execute_result",
          "data": {
            "text/plain": [
              "64"
            ]
          },
          "metadata": {},
          "execution_count": 14
        }
      ]
    },
    {
      "cell_type": "code",
      "source": [
        "documents[1].metadata"
      ],
      "metadata": {
        "colab": {
          "base_uri": "https://localhost:8080/"
        },
        "id": "7w6UYurvyZLe",
        "outputId": "e9fd762c-4383-45f6-af36-bc641df2b065"
      },
      "execution_count": null,
      "outputs": [
        {
          "output_type": "execute_result",
          "data": {
            "text/plain": [
              "{'document': 1}"
            ]
          },
          "metadata": {},
          "execution_count": 15
        }
      ]
    },
    {
      "cell_type": "code",
      "source": [
        "# text_splitter를 사용하여 file 텍스트를 분할하고, 분할된 텍스트의 첫번째 요소를 반환합니다.\n",
        "text_splitter.split_text(file)[0]"
      ],
      "metadata": {
        "colab": {
          "base_uri": "https://localhost:8080/",
          "height": 54
        },
        "id": "5qNJnnI-yeeV",
        "outputId": "7adeec41-7f8c-47d0-8731-292ba6f6aa95"
      },
      "execution_count": null,
      "outputs": [
        {
          "output_type": "execute_result",
          "data": {
            "text/plain": [
              "'Semantic Search\\n\\n정의: 의미론적 검색은 사용자의 질의를 단순한 키워드 매칭을 넘어서 그 의미를 파악하여 관련된 결과를 반환하는 검색 방식입니다.\\n예시: 사용자가 \"태양계 행성\"이라고 검색하면, \"목성\", \"화성\" 등과 같이 관련된 행성에 대한 정보를 반환합니다.\\n연관키워드: 자연어 처리, 검색 알고리즘, 데이터 마이닝\\n\\nEmbedding'"
            ],
            "application/vnd.google.colaboratory.intrinsic+json": {
              "type": "string"
            }
          },
          "metadata": {},
          "execution_count": 17
        }
      ]
    }
  ]
}